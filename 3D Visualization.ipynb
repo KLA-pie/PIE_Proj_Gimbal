{
 "cells": [
  {
   "cell_type": "code",
   "execution_count": null,
   "metadata": {},
   "outputs": [],
   "source": [
    "# Write a Python script that takes the data_list output (which is of the format (IR reading, servo-x position, servo-y position)) from serial_send.py and plots the data in 3D.\n",
    "# The script does not need to be able to plot the data in real time.\n",
    "\n",
    "import matplotlib.pyplot as plt\n",
    "from mpl_toolkits.mplot3d import Axes3D\n",
    "import numpy as np\n",
    "import serial\n",
    "import time\n",
    "import sys\n",
    "import math\n",
    "\n",
    "# Set up serial connection\n",
    "ser = serial.Serial('/dev/ttyACM0', 9600, timeout=1)\n",
    "time.sleep(2)\n",
    "\n",
    "# Set up plot\n",
    "fig = plt.figure()\n",
    "ax = fig.add_subplot(111, projection='3d')\n",
    "ax.set_xlabel('Servo X')\n",
    "ax.set_ylabel('Servo Y')\n",
    "ax.set_zlabel('IR Reading')\n",
    "ax.set_xlim(0, 180)\n",
    "ax.set_ylim(0, 180)\n",
    "ax.set_zlim(0, 1023)\n",
    "plt.ion()\n",
    "plt.show()\n",
    "\n",
    "# Read data from serial port\n",
    "while True:\n",
    "    data = ser.readline()\n",
    "    if data:\n",
    "        data_list = data.split()\n",
    "        if len(data_list) == 3:\n",
    "            ir_reading = int(data_list[0])\n",
    "            servo_x = int(data_list[1])\n",
    "            servo_y = int(data_list[2])\n",
    "            ax.scatter(servo_x, servo_y, ir_reading, c='r', marker='o')\n",
    "            plt.draw()\n",
    "            plt.pause(0.0001)\n",
    "\n",
    "# Close serial connection\n",
    "ser.close()"
   ]
  }
 ],
 "metadata": {
  "language_info": {
   "name": "python"
  },
  "orig_nbformat": 4
 },
 "nbformat": 4,
 "nbformat_minor": 2
}
